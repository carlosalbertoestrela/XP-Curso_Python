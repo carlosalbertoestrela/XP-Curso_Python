{
 "cells": [
  {
   "cell_type": "code",
   "execution_count": 23,
   "metadata": {},
   "outputs": [
    {
     "name": "stdout",
     "output_type": "stream",
     "text": [
      "['SP; Sao Paulo; 11895893\\n', 'RJ; Rio de Janeiro; 6453682\\n', 'BA; Salvador; 2902927\\n', 'DF; Brasilia; 2902927\\n', 'CE; Fortaleza; 2571896\\n']\n"
     ]
    }
   ],
   "source": [
    "file = open('cidades.txt', 'r')\n",
    "linhas = file.readlines()\n",
    "file.close()\n",
    "\n",
    "print(linhas)"
   ]
  },
  {
   "cell_type": "code",
   "execution_count": 24,
   "metadata": {},
   "outputs": [
    {
     "name": "stdout",
     "output_type": "stream",
     "text": [
      "['SP; Sao Paulo; 11895893', 'RJ; Rio de Janeiro; 6453682', 'BA; Salvador; 2902927', 'DF; Brasilia; 2902927', 'CE; Fortaleza; 2571896']\n"
     ]
    }
   ],
   "source": [
    "def striping(srt): \n",
    "    return srt.rstrip()\n",
    "new_linhas = list(map(striping, linhas))\n",
    "\n",
    "print((new_linhas))"
   ]
  },
  {
   "cell_type": "code",
   "execution_count": 25,
   "metadata": {},
   "outputs": [
    {
     "data": {
      "text/plain": [
       "['inpar', 'par', 'inpar', 'par', 'inpar', 'par', 'inpar', 'par', 'inpar']"
      ]
     },
     "execution_count": 25,
     "metadata": {},
     "output_type": "execute_result"
    }
   ],
   "source": [
    "[\"par\" if (n % 2== 0) else \"inpar\" for n in range(1,10)]"
   ]
  }
 ],
 "metadata": {
  "kernelspec": {
   "display_name": "Python 3",
   "language": "python",
   "name": "python3"
  },
  "language_info": {
   "codemirror_mode": {
    "name": "ipython",
    "version": 3
   },
   "file_extension": ".py",
   "mimetype": "text/x-python",
   "name": "python",
   "nbconvert_exporter": "python",
   "pygments_lexer": "ipython3",
   "version": "3.11.2"
  },
  "orig_nbformat": 4
 },
 "nbformat": 4,
 "nbformat_minor": 2
}
