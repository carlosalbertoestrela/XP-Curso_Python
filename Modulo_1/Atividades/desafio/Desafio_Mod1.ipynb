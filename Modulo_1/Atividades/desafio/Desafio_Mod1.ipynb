{
 "cells": [
  {
   "attachments": {},
   "cell_type": "markdown",
   "metadata": {},
   "source": [
    "## Atividade 1"
   ]
  },
  {
   "cell_type": "code",
   "execution_count": 41,
   "metadata": {},
   "outputs": [
    {
     "name": "stdout",
     "output_type": "stream",
     "text": [
      "8 5\n"
     ]
    }
   ],
   "source": [
    "# relação dos nomes\n",
    "nomes = ['Maria', 'Julieta', 'Fernando', 'Cristiano', 'Julieta', 'Maria', 'Fernando', 'Cláudio']\n",
    "# estrutura que irá armazenar o número de letras de cada nome\n",
    "qtd_letras = {}\n",
    "# calcula o tamanho de cada nome (em número de letras) e armazena o valor na estrutura\n",
    "for nome in nomes:\n",
    " qtd_letras[nome] = len(nome)\n",
    "\n",
    "print(len(nomes), len(qtd_letras))\n"
   ]
  },
  {
   "attachments": {},
   "cell_type": "markdown",
   "metadata": {},
   "source": [
    "## Atividade 2"
   ]
  },
  {
   "cell_type": "code",
   "execution_count": 5,
   "metadata": {},
   "outputs": [
    {
     "name": "stdout",
     "output_type": "stream",
     "text": [
      "{'Maria': 5, 'Julieta': 7, 'Fernando': 8, 'Cristiano': 9, 'Cláudio': 7}\n",
      "{'Maria': 5, 'Julieta': 7, 'Fernando': 8, 'Cristiano': 9, 'Cláudio': 7}\n"
     ]
    }
   ],
   "source": [
    "new_qtd_letras = {nome:len(nome) for nome in nomes}\n",
    "\n",
    "print(new_qtd_letras)"
   ]
  },
  {
   "attachments": {},
   "cell_type": "markdown",
   "metadata": {},
   "source": [
    "## Atividade 3"
   ]
  },
  {
   "cell_type": "code",
   "execution_count": 6,
   "metadata": {},
   "outputs": [
    {
     "name": "stdout",
     "output_type": "stream",
     "text": [
      "200.96\n"
     ]
    }
   ],
   "source": [
    "def area(r, pi = 3.14):\n",
    "    return pi*(r**2)\n",
    "\n",
    "print(area(8))"
   ]
  },
  {
   "attachments": {},
   "cell_type": "markdown",
   "metadata": {},
   "source": [
    "## Atividade 4\n"
   ]
  },
  {
   "cell_type": "code",
   "execution_count": 8,
   "metadata": {},
   "outputs": [
    {
     "name": "stdout",
     "output_type": "stream",
     "text": [
      "200.96\n"
     ]
    }
   ],
   "source": [
    "lambda_area = lambda r, pi = 3.14 : pi * (r**2)\n",
    "\n",
    "print(lambda_area(8))"
   ]
  },
  {
   "attachments": {},
   "cell_type": "markdown",
   "metadata": {},
   "source": [
    "## Atividade 5\n"
   ]
  },
  {
   "cell_type": "code",
   "execution_count": 2,
   "metadata": {},
   "outputs": [
    {
     "name": "stdout",
     "output_type": "stream",
     "text": [
      "1\n",
      "23123\n",
      "(1, 23123)\n"
     ]
    }
   ],
   "source": [
    "import processalista\n",
    "\n",
    "print(processalista.menor_impar([1,3,2,5,6,4,2,123,56,54,232,45346,2,23123,434]))\n",
    "print(processalista.maior_impar([1,3,2,5,6,4,2,123,56,54,232,45346,2,23123,434]))\n",
    "print(processalista.menor_maior_impar([1,3,2,5,6,4,2,123,56,54,232,45346,2,23123,434]))"
   ]
  },
  {
   "attachments": {},
   "cell_type": "markdown",
   "metadata": {},
   "source": [
    "## Atividade 6"
   ]
  },
  {
   "cell_type": "code",
   "execution_count": 50,
   "metadata": {},
   "outputs": [
    {
     "name": "stdout",
     "output_type": "stream",
     "text": [
      "{'sexta'}\n",
      "{'sexta'}\n",
      "{'segunda', 'sexta', 'quarta'}\n",
      "{'terca'}\n",
      "{'quarta'}\n",
      "{'sexta'}\n",
      "Nenhum dia\n"
     ]
    }
   ],
   "source": [
    "cardiologista = {'terca', 'quarta'}\n",
    "ortopedista = {'terca', 'quinta'}\n",
    "dermatologista = {'segunda', 'quarta', 'sexta'}\n",
    "neurologista = {'terca', 'quinta', 'sexta'}\n",
    "psiquiatra = {'segunda', 'quarta', 'sexta'}\n",
    "\n",
    "def dia_dois_medicos(med1,med2):\n",
    "    if med1 & med2:\n",
    "        return med1 & med2\n",
    "    return \"Nenhum dia\"\n",
    "\n",
    "def dia_tres_medicos(med1,med2,med3):\n",
    "    if med1 & med2 & med3:\n",
    "        return med1 & med2 & med3\n",
    "    return \"Nenhum dia\"\n",
    "\n",
    "\n",
    "print(dia_dois_medicos(psiquiatra,neurologista))\n",
    "print(dia_dois_medicos(dermatologista,neurologista))\n",
    "print(dia_dois_medicos(dermatologista,psiquiatra))\n",
    "print(dia_dois_medicos(cardiologista,neurologista))\n",
    "print(dia_tres_medicos(cardiologista,psiquiatra,dermatologista))\n",
    "print(dia_tres_medicos(dermatologista,neurologista,psiquiatra))\n",
    "print(dia_tres_medicos(cardiologista,ortopedista,psiquiatra))"
   ]
  }
 ],
 "metadata": {
  "kernelspec": {
   "display_name": "Python 3",
   "language": "python",
   "name": "python3"
  },
  "language_info": {
   "codemirror_mode": {
    "name": "ipython",
    "version": 3
   },
   "file_extension": ".py",
   "mimetype": "text/x-python",
   "name": "python",
   "nbconvert_exporter": "python",
   "pygments_lexer": "ipython3",
   "version": "3.11.2"
  },
  "orig_nbformat": 4
 },
 "nbformat": 4,
 "nbformat_minor": 2
}
