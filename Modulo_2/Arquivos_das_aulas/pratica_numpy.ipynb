{
 "cells": [
  {
   "attachments": {},
   "cell_type": "markdown",
   "metadata": {},
   "source": [
    "## Array 1D\n"
   ]
  },
  {
   "cell_type": "code",
   "execution_count": 6,
   "metadata": {},
   "outputs": [
    {
     "name": "stdout",
     "output_type": "stream",
     "text": [
      "Array l = [1, 2, 3, 4, 5]\n",
      "Array X = [1 2 3 4 5]\n",
      "Schape = (5,)\n"
     ]
    }
   ],
   "source": [
    "import numpy as np\n",
    "\n",
    "l = [1,2,3,4,5]\n",
    "\n",
    "x = np.array(l)\n",
    "\n",
    "print(f'Array l = {l}')\n",
    "print(f'Array X = {x}')\n",
    "print(f'Schape = {x.shape}')\n",
    "\n"
   ]
  },
  {
   "attachments": {},
   "cell_type": "markdown",
   "metadata": {},
   "source": [
    "## Array 2D"
   ]
  },
  {
   "cell_type": "code",
   "execution_count": 12,
   "metadata": {},
   "outputs": [
    {
     "name": "stdout",
     "output_type": "stream",
     "text": [
      "Array X2 = \n",
      "[[1 2 3]\n",
      " [3 2 1]]\n",
      "Schape = (2, 3)\n"
     ]
    }
   ],
   "source": [
    "l2 = [[1,2,3],[3,2,1]]\n",
    "\n",
    "x2 = np.array(l2)\n",
    "\n",
    "print(f'Array X2 = \\n{x2}')\n",
    "print(f'Schape = {x2.shape}')"
   ]
  },
  {
   "attachments": {},
   "cell_type": "markdown",
   "metadata": {},
   "source": [
    "## numpy.zeros()  e   numpy.ones()"
   ]
  },
  {
   "cell_type": "code",
   "execution_count": 13,
   "metadata": {},
   "outputs": [
    {
     "name": "stdout",
     "output_type": "stream",
     "text": [
      "Array = \n",
      "[[0 0 0 0]\n",
      " [0 0 0 0]]\n",
      "Schape = (2, 4)\n",
      "Array = \n",
      "[[1 1 1 1]\n",
      " [1 1 1 1]]\n",
      "Schape = (2, 4)\n"
     ]
    }
   ],
   "source": [
    "linha_colunas = (2,4)\n",
    "\n",
    "matriz_false = np.zeros(linha_colunas, dtype=int)\n",
    "\n",
    "print(f'Array = \\n{matriz_false}')\n",
    "print(f'Schape = {matriz_false.shape}')\n",
    "\n",
    "matriz_ture = np.ones(linha_colunas, dtype=int)\n",
    "\n",
    "print(f'Array = \\n{matriz_ture}')\n",
    "print(f'Schape = {matriz_ture.shape}')"
   ]
  },
  {
   "attachments": {},
   "cell_type": "markdown",
   "metadata": {},
   "source": [
    "## np.linspace()"
   ]
  },
  {
   "cell_type": "code",
   "execution_count": 14,
   "metadata": {},
   "outputs": [
    {
     "name": "stdout",
     "output_type": "stream",
     "text": [
      "Array X = \n",
      "[5.  5.8 6.6 7.4 8.2 9. ]\n",
      "Schape = (6,)\n"
     ]
    }
   ],
   "source": [
    "x_min, x_max = 5, 9\n",
    "\n",
    "lin_matriz = np.linspace(x_min,x_max,6)\n",
    "\n",
    "print(f'Array = \\n{lin_matriz}')\n",
    "print(f'Schape = {lin_matriz.shape}')"
   ]
  },
  {
   "attachments": {},
   "cell_type": "markdown",
   "metadata": {},
   "source": [
    "## np.eye()\n",
    "#### gera uma matriz **identidade** "
   ]
  },
  {
   "cell_type": "code",
   "execution_count": 15,
   "metadata": {},
   "outputs": [
    {
     "name": "stdout",
     "output_type": "stream",
     "text": [
      "Array X = \n",
      "[[1. 0. 0. 0. 0.]\n",
      " [0. 1. 0. 0. 0.]\n",
      " [0. 0. 1. 0. 0.]\n",
      " [0. 0. 0. 1. 0.]\n",
      " [0. 0. 0. 0. 1.]]\n",
      "Schape = (5, 5)\n"
     ]
    }
   ],
   "source": [
    "ident = np.eye(5)\n",
    "\n",
    "print(f'Array = \\n{ident}')\n",
    "print(f'Schape = {ident.shape}')"
   ]
  },
  {
   "attachments": {},
   "cell_type": "markdown",
   "metadata": {},
   "source": [
    "## np.random.random()"
   ]
  },
  {
   "cell_type": "code",
   "execution_count": 17,
   "metadata": {},
   "outputs": [
    {
     "name": "stdout",
     "output_type": "stream",
     "text": [
      "Array = \n",
      "[[0.14457305 0.05246861 0.72326514]\n",
      " [0.33739374 0.15469177 0.6833135 ]]\n",
      "Schape = (2, 3)\n"
     ]
    }
   ],
   "source": [
    "rand = np.random.random(size=(2,3))\n",
    "\n",
    "print(f'Array = \\n{rand}')\n",
    "print(f'Schape = {rand.shape}')"
   ]
  }
 ],
 "metadata": {
  "kernelspec": {
   "display_name": "Python 3",
   "language": "python",
   "name": "python3"
  },
  "language_info": {
   "codemirror_mode": {
    "name": "ipython",
    "version": 3
   },
   "file_extension": ".py",
   "mimetype": "text/x-python",
   "name": "python",
   "nbconvert_exporter": "python",
   "pygments_lexer": "ipython3",
   "version": "3.11.2"
  },
  "orig_nbformat": 4
 },
 "nbformat": 4,
 "nbformat_minor": 2
}
